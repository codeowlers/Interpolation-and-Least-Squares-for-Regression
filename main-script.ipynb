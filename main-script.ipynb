{
 "cells": [
  {
   "cell_type": "code",
   "execution_count": 29,
   "metadata": {},
   "outputs": [],
   "source": [
    "import pandas as pd\n",
    "from sklearn.datasets import fetch_california_housing\n",
    "\n",
    "# Load the California housing dataset\n",
    "california = fetch_california_housing(as_frame=True)\n",
    "\n",
    "# Create a copy of the dataframe\n",
    "df = california.data.copy()\n",
    "\n",
    "# Introduce random missing values in the MedInc column (15%)\n",
    "import numpy as np\n",
    "mask = np.random.choice([True, False], size=df['MedInc'].shape, p=[0.15, 0.85])\n",
    "df['MedInc'][mask] = np.nan\n"
   ]
  }
 ],
 "metadata": {
  "kernelspec": {
   "display_name": "Python 3",
   "language": "python",
   "name": "python3"
  },
  "language_info": {
   "codemirror_mode": {
    "name": "ipython",
    "version": 3
   },
   "file_extension": ".py",
   "mimetype": "text/x-python",
   "name": "python",
   "nbconvert_exporter": "python",
   "pygments_lexer": "ipython3",
   "version": "3.10.2"
  },
  "orig_nbformat": 4,
  "vscode": {
   "interpreter": {
    "hash": "5a6207722f3be5c8aeec7a028becc5489fbd28a1705747404dde5b96b7146bf2"
   }
  }
 },
 "nbformat": 4,
 "nbformat_minor": 2
}
