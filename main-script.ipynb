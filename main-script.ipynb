{
 "cells": [
  {
   "attachments": {},
   "cell_type": "markdown",
   "metadata": {},
   "source": [
    "Import used packages"
   ]
  },
  {
   "cell_type": "code",
   "execution_count": null,
   "metadata": {},
   "outputs": [],
   "source": [
    "import pandas as pd\n",
    "from sklearn.datasets import fetch_california_housing\n",
    "import numpy as np\n",
    "from sklearn.linear_model import LinearRegression\n",
    "from sklearn.model_selection import train_test_split\n",
    "from algorithms import *"
   ]
  },
  {
   "attachments": {},
   "cell_type": "markdown",
   "metadata": {},
   "source": [
    "Load Dataset"
   ]
  },
  {
   "cell_type": "code",
   "execution_count": null,
   "metadata": {},
   "outputs": [],
   "source": [
    "# Load the California housing dataset\n",
    "california = fetch_california_housing(as_frame=True)\n",
    "\n",
    "# Create a copy of the data and the target\n",
    "X = california['data'].copy()\n",
    "y = california['target'].copy()\n",
    "\n",
    "X_original = california['data'].copy()\n",
    "MedInc_original = X['MedInc'].copy()"
   ]
  },
  {
   "attachments": {},
   "cell_type": "markdown",
   "metadata": {},
   "source": [
    "Add null values randomly"
   ]
  },
  {
   "cell_type": "code",
   "execution_count": null,
   "metadata": {},
   "outputs": [],
   "source": [
    "# Replace a percentage of values in the 'medInc' column of X with NaNs\n",
    "percent_missing = 20\n",
    "num_missing = int(percent_missing / 100 * len(X))\n",
    "missing_indices = np.random.choice(X.index, num_missing, replace=False)\n",
    "X.loc[missing_indices, 'MedInc'] = np.nan\n",
    "percent_missing = X['MedInc'].isna().sum() / len(X) * 100"
   ]
  },
  {
   "cell_type": "code",
   "execution_count": null,
   "metadata": {},
   "outputs": [],
   "source": [
    "X"
   ]
  },
  {
   "attachments": {},
   "cell_type": "markdown",
   "metadata": {},
   "source": [
    "Perform Global and Piecewise Interpolation"
   ]
  },
  {
   "cell_type": "code",
   "execution_count": null,
   "metadata": {},
   "outputs": [],
   "source": [
    "# Perform global interpolation\n",
    "df_global = global_interp(X, 'MedInc')\n",
    "print(\"Percentage of NANs after global interpolation:\",df_global['MedInc'].isna().sum() / len(X) * 100)\n",
    "\n",
    "# Perform piecewise interpolation\n",
    "df_piecewise = piecewise_interp(X, 'MedInc')\n",
    "print(\"Percentage of NANs after piece-wise interpolation:\",df_piecewise['MedInc'].isna().sum() / len(X) * 100)"
   ]
  },
  {
   "attachments": {},
   "cell_type": "markdown",
   "metadata": {},
   "source": [
    "Perform Least Square Approximation using Pseudo Inverse"
   ]
  },
  {
   "cell_type": "code",
   "execution_count": null,
   "metadata": {},
   "outputs": [],
   "source": [
    "df_least_squares = least_squares(X,'MedInc')"
   ]
  },
  {
   "attachments": {},
   "cell_type": "markdown",
   "metadata": {},
   "source": [
    "Linear Regression Implementation"
   ]
  },
  {
   "cell_type": "code",
   "execution_count": null,
   "metadata": {},
   "outputs": [],
   "source": [
    "y_pred_original,y_test_original, r2,  mse = model(X_original,y,'Original')\n",
    "y_pred_global,y_test_global, r2,  mse = model(df_global,y,'Global')\n",
    "y_pred_piecewise,y_test_piecewise, r2,  mse = model(df_piecewise,y,'Piecewise')\n",
    "y_pred_least_squares,y_test_least_squares,r2,  mse = model(df_least_squares,y,'Least Squares')\n"
   ]
  },
  {
   "attachments": {},
   "cell_type": "markdown",
   "metadata": {},
   "source": [
    "R-squared (R²): The R-squared value is a metric that measures the proportion of the variance in the dependent variable (y) that can be explained by the independent variables (X) in the model. It ranges from 0 to 1, with higher values indicating a better fit."
   ]
  },
  {
   "attachments": {},
   "cell_type": "markdown",
   "metadata": {},
   "source": [
    "Mean Squared Error (MSE): The mean squared error is a metric that measures the average squared difference between the predicted and actual values. It is widely used in linear regression models to evaluate their accuracy."
   ]
  },
  {
   "attachments": {},
   "cell_type": "markdown",
   "metadata": {},
   "source": [
    "Residual Plot: A residual plot is a scatter plot that shows the differences between the predicted and actual values (i.e., the residuals) against the predicted values. It can help identify any patterns or outliers in the residuals, which can indicate issues with the model."
   ]
  },
  {
   "cell_type": "code",
   "execution_count": null,
   "metadata": {},
   "outputs": [],
   "source": [
    "residual_plot(y_test_original, y_pred_original)"
   ]
  },
  {
   "cell_type": "code",
   "execution_count": null,
   "metadata": {},
   "outputs": [],
   "source": [
    "residual_plot(y_test_global, y_pred_global)"
   ]
  },
  {
   "cell_type": "code",
   "execution_count": null,
   "metadata": {},
   "outputs": [],
   "source": [
    "residual_plot(y_test_piecewise, y_pred_piecewise)"
   ]
  },
  {
   "cell_type": "code",
   "execution_count": null,
   "metadata": {},
   "outputs": [],
   "source": [
    "residual_plot(y_test_least_squares, y_pred_least_squares)"
   ]
  }
 ],
 "metadata": {
  "kernelspec": {
   "display_name": "venv",
   "language": "python",
   "name": "python3"
  },
  "language_info": {
   "codemirror_mode": {
    "name": "ipython",
    "version": 3
   },
   "file_extension": ".py",
   "mimetype": "text/x-python",
   "name": "python",
   "nbconvert_exporter": "python",
   "pygments_lexer": "ipython3",
   "version": "3.10.9"
  },
  "orig_nbformat": 4,
  "vscode": {
   "interpreter": {
    "hash": "61ca19d43a3f6c59ac386c5b6a5a5ce4dab402e018d583a21d0918dd3f8d9480"
   }
  }
 },
 "nbformat": 4,
 "nbformat_minor": 2
}
