{
 "cells": [
  {
   "attachments": {},
   "cell_type": "markdown",
   "metadata": {},
   "source": [
    "Import used packages"
   ]
  },
  {
   "cell_type": "code",
   "execution_count": 1,
   "metadata": {},
   "outputs": [],
   "source": [
    "import pandas as pd\n",
    "from sklearn.datasets import fetch_california_housing\n",
    "import numpy as np\n",
    "from algorithms import *"
   ]
  },
  {
   "attachments": {},
   "cell_type": "markdown",
   "metadata": {},
   "source": [
    "Load Dataset"
   ]
  },
  {
   "cell_type": "code",
   "execution_count": 2,
   "metadata": {},
   "outputs": [],
   "source": [
    "# Load the California housing dataset\n",
    "california = fetch_california_housing(as_frame=True)\n",
    "\n",
    "# Create a copy of the data and the target\n",
    "X = california['data'].copy()\n",
    "y = california['target'].copy()\n",
    "\n",
    "original_MedInc = X['MedInc'].copy"
   ]
  },
  {
   "attachments": {},
   "cell_type": "markdown",
   "metadata": {},
   "source": [
    "Add missing data randomly"
   ]
  },
  {
   "cell_type": "code",
   "execution_count": 3,
   "metadata": {},
   "outputs": [],
   "source": [
    "# Replace a percentage of values in the 'medInc' column of X with NaNs\n",
    "percent_missing = 10\n",
    "num_missing = int(percent_missing / 100 * len(X))\n",
    "missing_indices = np.random.choice(X.index, num_missing, replace=False)\n",
    "X.loc[missing_indices, 'MedInc'] = np.nan\n",
    "percent_missing = X['MedInc'].isna().sum() / len(X) * 100"
   ]
  },
  {
   "cell_type": "code",
   "execution_count": 4,
   "metadata": {},
   "outputs": [
    {
     "ename": "NameError",
     "evalue": "name 'global_interp' is not defined",
     "output_type": "error",
     "traceback": [
      "\u001b[0;31m---------------------------------------------------------------------------\u001b[0m",
      "\u001b[0;31mNameError\u001b[0m                                 Traceback (most recent call last)",
      "Cell \u001b[0;32mIn[4], line 2\u001b[0m\n\u001b[1;32m      1\u001b[0m \u001b[39m# Perform global interpolation\u001b[39;00m\n\u001b[0;32m----> 2\u001b[0m df_global \u001b[39m=\u001b[39m global_interp(X, \u001b[39m'\u001b[39m\u001b[39mMedInc\u001b[39m\u001b[39m'\u001b[39m)\n\u001b[1;32m      4\u001b[0m \u001b[39m# Perform piecewise interpolation\u001b[39;00m\n\u001b[1;32m      5\u001b[0m df_piecewise \u001b[39m=\u001b[39m piecewise_interp(X, \u001b[39m'\u001b[39m\u001b[39mMedInc\u001b[39m\u001b[39m'\u001b[39m)\n",
      "\u001b[0;31mNameError\u001b[0m: name 'global_interp' is not defined"
     ]
    }
   ],
   "source": [
    "# Perform global interpolation\n",
    "df_global = global_interp(X, 'MedInc')\n",
    "\n",
    "# Perform piecewise interpolation\n",
    "df_piecewise = piecewise_interp(X, 'MedInc')\n",
    "\n",
    "print(df_global['MedInc'].isna().sum() / len(X) * 100)\n",
    "print(df_piecewise['MedInc'].isna().sum() / len(X) * 100)"
   ]
  }
 ],
 "metadata": {
  "kernelspec": {
   "display_name": "venv",
   "language": "python",
   "name": "python3"
  },
  "language_info": {
   "codemirror_mode": {
    "name": "ipython",
    "version": 3
   },
   "file_extension": ".py",
   "mimetype": "text/x-python",
   "name": "python",
   "nbconvert_exporter": "python",
   "pygments_lexer": "ipython3",
   "version": "3.10.9"
  },
  "orig_nbformat": 4,
  "vscode": {
   "interpreter": {
    "hash": "61ca19d43a3f6c59ac386c5b6a5a5ce4dab402e018d583a21d0918dd3f8d9480"
   }
  }
 },
 "nbformat": 4,
 "nbformat_minor": 2
}
