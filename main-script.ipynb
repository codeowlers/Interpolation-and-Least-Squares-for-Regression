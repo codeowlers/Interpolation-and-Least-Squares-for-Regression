{
 "cells": [
  {
   "attachments": {},
   "cell_type": "markdown",
   "metadata": {},
   "source": [
    "Import used packages"
   ]
  },
  {
   "cell_type": "code",
   "execution_count": null,
   "metadata": {},
   "outputs": [],
   "source": [
    "import pandas as pd\n",
    "from sklearn.datasets import fetch_california_housing\n",
    "import numpy as np"
   ]
  },
  {
   "attachments": {},
   "cell_type": "markdown",
   "metadata": {},
   "source": [
    "Load Dataset"
   ]
  },
  {
   "cell_type": "code",
   "execution_count": null,
   "metadata": {},
   "outputs": [],
   "source": [
    "# Load the California housing dataset\n",
    "california = fetch_california_housing(as_frame=True)\n",
    "\n",
    "# Create a copy of the data and the target\n",
    "X = california['data'].copy()\n",
    "y = california['target'].copy()\n",
    "\n",
    "original_MedInc = X['MedInc'].copy"
   ]
  },
  {
   "attachments": {},
   "cell_type": "markdown",
   "metadata": {},
   "source": [
    "Add missing data randomly"
   ]
  },
  {
   "cell_type": "code",
   "execution_count": null,
   "metadata": {},
   "outputs": [],
   "source": [
    "# Replace a percentage of values in the 'medInc' column of X with NaNs\n",
    "percent_missing = 10\n",
    "num_missing = int(percent_missing / 100 * len(X))\n",
    "missing_indices = np.random.choice(X.index, num_missing, replace=False)\n",
    "X.loc[missing_indices, 'MedInc'] = np.nan\n",
    "percent_missing = X['MedInc'].isna().sum() / len(X) * 100"
   ]
  }
 ],
 "metadata": {
  "kernelspec": {
   "display_name": "venv",
   "language": "python",
   "name": "python3"
  },
  "language_info": {
   "codemirror_mode": {
    "name": "ipython",
    "version": 3
   },
   "file_extension": ".py",
   "mimetype": "text/x-python",
   "name": "python",
   "nbconvert_exporter": "python",
   "pygments_lexer": "ipython3",
   "version": "3.10.9"
  },
  "orig_nbformat": 4,
  "vscode": {
   "interpreter": {
    "hash": "61ca19d43a3f6c59ac386c5b6a5a5ce4dab402e018d583a21d0918dd3f8d9480"
   }
  }
 },
 "nbformat": 4,
 "nbformat_minor": 2
}
